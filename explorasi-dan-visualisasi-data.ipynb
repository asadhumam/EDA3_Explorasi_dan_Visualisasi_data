{
 "cells": [
  {
   "cell_type": "code",
   "execution_count": 1,
   "id": "84652e1e",
   "metadata": {
    "_cell_guid": "b1076dfc-b9ad-4769-8c92-a6c4dae69d19",
    "_uuid": "8f2839f25d086af736a60e9eeb907d3b93b6e0e5",
    "execution": {
     "iopub.execute_input": "2022-02-24T13:23:20.430637Z",
     "iopub.status.busy": "2022-02-24T13:23:20.429534Z",
     "iopub.status.idle": "2022-02-24T13:23:21.391380Z",
     "shell.execute_reply": "2022-02-24T13:23:21.390411Z",
     "shell.execute_reply.started": "2022-02-24T13:22:42.276879Z"
    },
    "papermill": {
     "duration": 0.977726,
     "end_time": "2022-02-24T13:23:21.391539",
     "exception": false,
     "start_time": "2022-02-24T13:23:20.413813",
     "status": "completed"
    },
    "tags": []
   },
   "outputs": [
    {
     "name": "stdout",
     "output_type": "stream",
     "text": [
      "/kaggle/input/tugas-explorasi-dan-visualisasi-data/omicron.csv\n"
     ]
    }
   ],
   "source": [
    "# This Python 3 environment comes with many helpful analytics libraries installed\n",
    "# It is defined by the kaggle/python Docker image: https://github.com/kaggle/docker-python\n",
    "# For example, here's several helpful packages to load\n",
    "\n",
    "import numpy as np # linear algebra\n",
    "import pandas as pd # data processing, CSV file I/O (e.g. pd.read_csv)\n",
    "import matplotlib.pyplot as plt\n",
    "import seaborn as sns\n",
    "\n",
    "# Input data files are available in the read-only \"../input/\" directory\n",
    "# For example, running this (by clicking run or pressing Shift+Enter) will list all files under the input directory\n",
    "\n",
    "import os\n",
    "for dirname, _, filenames in os.walk('/kaggle/input'):\n",
    "    for filename in filenames:\n",
    "        print(os.path.join(dirname, filename))\n",
    "\n",
    "# You can write up to 20GB to the current directory (/kaggle/working/) that gets preserved as output when you create a version using \"Save & Run All\" \n",
    "# You can also write temporary files to /kaggle/temp/, but they won't be saved outside of the current session"
   ]
  },
  {
   "cell_type": "code",
   "execution_count": 2,
   "id": "0e777472",
   "metadata": {
    "execution": {
     "iopub.execute_input": "2022-02-24T13:23:21.420630Z",
     "iopub.status.busy": "2022-02-24T13:23:21.419910Z",
     "iopub.status.idle": "2022-02-24T13:23:21.442300Z",
     "shell.execute_reply": "2022-02-24T13:23:21.442818Z",
     "shell.execute_reply.started": "2022-02-24T13:22:43.318815Z"
    },
    "papermill": {
     "duration": 0.038784,
     "end_time": "2022-02-24T13:23:21.442991",
     "exception": false,
     "start_time": "2022-02-24T13:23:21.404207",
     "status": "completed"
    },
    "tags": []
   },
   "outputs": [
    {
     "data": {
      "text/html": [
       "<div>\n",
       "<style scoped>\n",
       "    .dataframe tbody tr th:only-of-type {\n",
       "        vertical-align: middle;\n",
       "    }\n",
       "\n",
       "    .dataframe tbody tr th {\n",
       "        vertical-align: top;\n",
       "    }\n",
       "\n",
       "    .dataframe thead th {\n",
       "        text-align: right;\n",
       "    }\n",
       "</style>\n",
       "<table border=\"1\" class=\"dataframe\">\n",
       "  <thead>\n",
       "    <tr style=\"text-align: right;\">\n",
       "      <th></th>\n",
       "      <th>Country</th>\n",
       "      <th>Date</th>\n",
       "      <th>Percentage of Omicron</th>\n",
       "    </tr>\n",
       "  </thead>\n",
       "  <tbody>\n",
       "    <tr>\n",
       "      <th>0</th>\n",
       "      <td>Angola</td>\n",
       "      <td>9/20/2021</td>\n",
       "      <td>0.0</td>\n",
       "    </tr>\n",
       "    <tr>\n",
       "      <th>1</th>\n",
       "      <td>Angola</td>\n",
       "      <td>10/4/2021</td>\n",
       "      <td>0.0</td>\n",
       "    </tr>\n",
       "    <tr>\n",
       "      <th>2</th>\n",
       "      <td>Argentina</td>\n",
       "      <td>9/20/2021</td>\n",
       "      <td>0.0</td>\n",
       "    </tr>\n",
       "    <tr>\n",
       "      <th>3</th>\n",
       "      <td>Argentina</td>\n",
       "      <td>10/4/2021</td>\n",
       "      <td>0.0</td>\n",
       "    </tr>\n",
       "    <tr>\n",
       "      <th>4</th>\n",
       "      <td>Argentina</td>\n",
       "      <td>10/18/2021</td>\n",
       "      <td>0.0</td>\n",
       "    </tr>\n",
       "  </tbody>\n",
       "</table>\n",
       "</div>"
      ],
      "text/plain": [
       "     Country        Date  Percentage of Omicron\n",
       "0     Angola   9/20/2021                    0.0\n",
       "1     Angola   10/4/2021                    0.0\n",
       "2  Argentina   9/20/2021                    0.0\n",
       "3  Argentina   10/4/2021                    0.0\n",
       "4  Argentina  10/18/2021                    0.0"
      ]
     },
     "execution_count": 2,
     "metadata": {},
     "output_type": "execute_result"
    }
   ],
   "source": [
    "df = pd.read_csv('/kaggle/input/tugas-explorasi-dan-visualisasi-data/omicron.csv')\n",
    "df.head()"
   ]
  },
  {
   "cell_type": "code",
   "execution_count": 3,
   "id": "b107ff46",
   "metadata": {
    "execution": {
     "iopub.execute_input": "2022-02-24T13:23:21.470193Z",
     "iopub.status.busy": "2022-02-24T13:23:21.469559Z",
     "iopub.status.idle": "2022-02-24T13:23:21.474070Z",
     "shell.execute_reply": "2022-02-24T13:23:21.474596Z",
     "shell.execute_reply.started": "2022-02-24T13:22:43.351955Z"
    },
    "papermill": {
     "duration": 0.019527,
     "end_time": "2022-02-24T13:23:21.474748",
     "exception": false,
     "start_time": "2022-02-24T13:23:21.455221",
     "status": "completed"
    },
    "tags": []
   },
   "outputs": [
    {
     "data": {
      "text/plain": [
       "(552, 3)"
      ]
     },
     "execution_count": 3,
     "metadata": {},
     "output_type": "execute_result"
    }
   ],
   "source": [
    "df.shape"
   ]
  },
  {
   "cell_type": "code",
   "execution_count": 4,
   "id": "114c6d1c",
   "metadata": {
    "execution": {
     "iopub.execute_input": "2022-02-24T13:23:21.507188Z",
     "iopub.status.busy": "2022-02-24T13:23:21.506105Z",
     "iopub.status.idle": "2022-02-24T13:23:21.526263Z",
     "shell.execute_reply": "2022-02-24T13:23:21.527050Z",
     "shell.execute_reply.started": "2022-02-24T13:22:43.358819Z"
    },
    "papermill": {
     "duration": 0.038215,
     "end_time": "2022-02-24T13:23:21.527322",
     "exception": false,
     "start_time": "2022-02-24T13:23:21.489107",
     "status": "completed"
    },
    "tags": []
   },
   "outputs": [
    {
     "name": "stdout",
     "output_type": "stream",
     "text": [
      "<class 'pandas.core.frame.DataFrame'>\n",
      "RangeIndex: 552 entries, 0 to 551\n",
      "Data columns (total 3 columns):\n",
      " #   Column                 Non-Null Count  Dtype  \n",
      "---  ------                 --------------  -----  \n",
      " 0   Country                552 non-null    object \n",
      " 1   Date                   552 non-null    object \n",
      " 2   Percentage of Omicron  552 non-null    float64\n",
      "dtypes: float64(1), object(2)\n",
      "memory usage: 13.1+ KB\n"
     ]
    }
   ],
   "source": [
    "df.info()"
   ]
  },
  {
   "cell_type": "code",
   "execution_count": 5,
   "id": "c69f68c3",
   "metadata": {
    "execution": {
     "iopub.execute_input": "2022-02-24T13:23:21.561313Z",
     "iopub.status.busy": "2022-02-24T13:23:21.560406Z",
     "iopub.status.idle": "2022-02-24T13:23:21.575642Z",
     "shell.execute_reply": "2022-02-24T13:23:21.576350Z",
     "shell.execute_reply.started": "2022-02-24T13:22:43.387711Z"
    },
    "papermill": {
     "duration": 0.031926,
     "end_time": "2022-02-24T13:23:21.576574",
     "exception": false,
     "start_time": "2022-02-24T13:23:21.544648",
     "status": "completed"
    },
    "tags": []
   },
   "outputs": [
    {
     "data": {
      "text/html": [
       "<div>\n",
       "<style scoped>\n",
       "    .dataframe tbody tr th:only-of-type {\n",
       "        vertical-align: middle;\n",
       "    }\n",
       "\n",
       "    .dataframe tbody tr th {\n",
       "        vertical-align: top;\n",
       "    }\n",
       "\n",
       "    .dataframe thead th {\n",
       "        text-align: right;\n",
       "    }\n",
       "</style>\n",
       "<table border=\"1\" class=\"dataframe\">\n",
       "  <thead>\n",
       "    <tr style=\"text-align: right;\">\n",
       "      <th></th>\n",
       "      <th>Percentage of Omicron</th>\n",
       "    </tr>\n",
       "  </thead>\n",
       "  <tbody>\n",
       "    <tr>\n",
       "      <th>count</th>\n",
       "      <td>552.000000</td>\n",
       "    </tr>\n",
       "    <tr>\n",
       "      <th>mean</th>\n",
       "      <td>5.925054</td>\n",
       "    </tr>\n",
       "    <tr>\n",
       "      <th>std</th>\n",
       "      <td>17.723560</td>\n",
       "    </tr>\n",
       "    <tr>\n",
       "      <th>min</th>\n",
       "      <td>0.000000</td>\n",
       "    </tr>\n",
       "    <tr>\n",
       "      <th>25%</th>\n",
       "      <td>0.000000</td>\n",
       "    </tr>\n",
       "    <tr>\n",
       "      <th>50%</th>\n",
       "      <td>0.000000</td>\n",
       "    </tr>\n",
       "    <tr>\n",
       "      <th>75%</th>\n",
       "      <td>0.152500</td>\n",
       "    </tr>\n",
       "    <tr>\n",
       "      <th>max</th>\n",
       "      <td>100.000000</td>\n",
       "    </tr>\n",
       "  </tbody>\n",
       "</table>\n",
       "</div>"
      ],
      "text/plain": [
       "       Percentage of Omicron\n",
       "count             552.000000\n",
       "mean                5.925054\n",
       "std                17.723560\n",
       "min                 0.000000\n",
       "25%                 0.000000\n",
       "50%                 0.000000\n",
       "75%                 0.152500\n",
       "max               100.000000"
      ]
     },
     "execution_count": 5,
     "metadata": {},
     "output_type": "execute_result"
    }
   ],
   "source": [
    "df.describe()"
   ]
  },
  {
   "cell_type": "code",
   "execution_count": 6,
   "id": "599604f3",
   "metadata": {
    "execution": {
     "iopub.execute_input": "2022-02-24T13:23:21.616283Z",
     "iopub.status.busy": "2022-02-24T13:23:21.615712Z",
     "iopub.status.idle": "2022-02-24T13:23:21.848004Z",
     "shell.execute_reply": "2022-02-24T13:23:21.848583Z",
     "shell.execute_reply.started": "2022-02-24T13:22:43.406786Z"
    },
    "papermill": {
     "duration": 0.25309,
     "end_time": "2022-02-24T13:23:21.848762",
     "exception": false,
     "start_time": "2022-02-24T13:23:21.595672",
     "status": "completed"
    },
    "tags": []
   },
   "outputs": [
    {
     "data": {
      "text/plain": [
       "<AxesSubplot:>"
      ]
     },
     "execution_count": 6,
     "metadata": {},
     "output_type": "execute_result"
    },
    {
     "data": {
      "image/png": "[encoded data removed]",
      "text/plain": [
       "<Figure size 432x288 with 2 Axes>"
      ]
     },
     "metadata": {
      "needs_background": "light"
     },
     "output_type": "display_data"
    }
   ],
   "source": [
    "sns.heatmap(data=df.corr())"
   ]
  },
  {
   "cell_type": "code",
   "execution_count": 7,
   "id": "04e52da8",
   "metadata": {
    "execution": {
     "iopub.execute_input": "2022-02-24T13:23:21.887253Z",
     "iopub.status.busy": "2022-02-24T13:23:21.886622Z",
     "iopub.status.idle": "2022-02-24T13:23:21.888698Z",
     "shell.execute_reply": "2022-02-24T13:23:21.889501Z",
     "shell.execute_reply.started": "2022-02-24T13:22:43.679415Z"
    },
    "papermill": {
     "duration": 0.027007,
     "end_time": "2022-02-24T13:23:21.889673",
     "exception": false,
     "start_time": "2022-02-24T13:23:21.862666",
     "status": "completed"
    },
    "tags": []
   },
   "outputs": [],
   "source": [
    "#mengganti object date ke datetime\n",
    "df['Date'] = pd.to_datetime(df['Date'])"
   ]
  },
  {
   "cell_type": "code",
   "execution_count": 8,
   "id": "7166e7a0",
   "metadata": {
    "execution": {
     "iopub.execute_input": "2022-02-24T13:23:21.947815Z",
     "iopub.status.busy": "2022-02-24T13:23:21.941978Z",
     "iopub.status.idle": "2022-02-24T13:23:23.148171Z",
     "shell.execute_reply": "2022-02-24T13:23:23.148707Z",
     "shell.execute_reply.started": "2022-02-24T13:22:43.692799Z"
    },
    "papermill": {
     "duration": 1.245176,
     "end_time": "2022-02-24T13:23:23.148905",
     "exception": false,
     "start_time": "2022-02-24T13:23:21.903729",
     "status": "completed"
    },
    "tags": []
   },
   "outputs": [
    {
     "data": {
      "image/png": "[encoded data removed]",
      "text/plain": [
       "<Figure size 1440x576 with 1 Axes>"
      ]
     },
     "metadata": {
      "needs_background": "light"
     },
     "output_type": "display_data"
    }
   ],
   "source": [
    "#explorasi hari ke hari\n",
    "\n",
    "plt.figure(figsize = (20,8))\n",
    "plt.bar(df['Date'], df['Percentage of Omicron'], color = 'blue', width = 5)\n",
    "plt.xticks(fontsize = 16)\n",
    "plt.yticks(fontsize = 16)\n",
    "plt.title(\"KASUS OMICRON HARI KE HARI\", fontsize = 25)\n",
    "plt.xlabel(\"DATES\", fontsize = 20)\n",
    "plt.ylabel(\"KASUS OMICRON\", fontsize = 20)\n",
    "plt.show()"
   ]
  },
  {
   "cell_type": "code",
   "execution_count": 9,
   "id": "da313f16",
   "metadata": {
    "execution": {
     "iopub.execute_input": "2022-02-24T13:23:23.188938Z",
     "iopub.status.busy": "2022-02-24T13:23:23.188340Z",
     "iopub.status.idle": "2022-02-24T13:23:23.203356Z",
     "shell.execute_reply": "2022-02-24T13:23:23.202828Z",
     "shell.execute_reply.started": "2022-02-24T13:22:45.066808Z"
    },
    "papermill": {
     "duration": 0.033718,
     "end_time": "2022-02-24T13:23:23.203485",
     "exception": false,
     "start_time": "2022-02-24T13:23:23.169767",
     "status": "completed"
    },
    "tags": []
   },
   "outputs": [
    {
     "data": {
      "text/html": [
       "<div>\n",
       "<style scoped>\n",
       "    .dataframe tbody tr th:only-of-type {\n",
       "        vertical-align: middle;\n",
       "    }\n",
       "\n",
       "    .dataframe tbody tr th {\n",
       "        vertical-align: top;\n",
       "    }\n",
       "\n",
       "    .dataframe thead th {\n",
       "        text-align: right;\n",
       "    }\n",
       "</style>\n",
       "<table border=\"1\" class=\"dataframe\">\n",
       "  <thead>\n",
       "    <tr style=\"text-align: right;\">\n",
       "      <th></th>\n",
       "      <th>Country</th>\n",
       "      <th>Date</th>\n",
       "      <th>Percentage of Omicron</th>\n",
       "    </tr>\n",
       "  </thead>\n",
       "  <tbody>\n",
       "    <tr>\n",
       "      <th>551</th>\n",
       "      <td>Zambia</td>\n",
       "      <td>2021-12-13</td>\n",
       "      <td>100.00</td>\n",
       "    </tr>\n",
       "    <tr>\n",
       "      <th>318</th>\n",
       "      <td>Malta</td>\n",
       "      <td>2021-12-27</td>\n",
       "      <td>100.00</td>\n",
       "    </tr>\n",
       "    <tr>\n",
       "      <th>64</th>\n",
       "      <td>Botswana</td>\n",
       "      <td>2021-12-27</td>\n",
       "      <td>99.30</td>\n",
       "    </tr>\n",
       "    <tr>\n",
       "      <th>533</th>\n",
       "      <td>United Kingdom</td>\n",
       "      <td>2022-01-05</td>\n",
       "      <td>95.91</td>\n",
       "    </tr>\n",
       "    <tr>\n",
       "      <th>454</th>\n",
       "      <td>South Africa</td>\n",
       "      <td>2021-12-13</td>\n",
       "      <td>95.90</td>\n",
       "    </tr>\n",
       "    <tr>\n",
       "      <th>...</th>\n",
       "      <td>...</td>\n",
       "      <td>...</td>\n",
       "      <td>...</td>\n",
       "    </tr>\n",
       "    <tr>\n",
       "      <th>236</th>\n",
       "      <td>Ireland</td>\n",
       "      <td>2021-11-29</td>\n",
       "      <td>1.23</td>\n",
       "    </tr>\n",
       "    <tr>\n",
       "      <th>337</th>\n",
       "      <td>Netherlands</td>\n",
       "      <td>2021-11-29</td>\n",
       "      <td>1.21</td>\n",
       "    </tr>\n",
       "    <tr>\n",
       "      <th>327</th>\n",
       "      <td>Mexico</td>\n",
       "      <td>2021-12-13</td>\n",
       "      <td>1.20</td>\n",
       "    </tr>\n",
       "    <tr>\n",
       "      <th>252</th>\n",
       "      <td>Italy</td>\n",
       "      <td>2021-12-13</td>\n",
       "      <td>1.05</td>\n",
       "    </tr>\n",
       "    <tr>\n",
       "      <th>229</th>\n",
       "      <td>Indonesia</td>\n",
       "      <td>2021-12-13</td>\n",
       "      <td>1.00</td>\n",
       "    </tr>\n",
       "  </tbody>\n",
       "</table>\n",
       "<p>113 rows × 3 columns</p>\n",
       "</div>"
      ],
      "text/plain": [
       "            Country       Date  Percentage of Omicron\n",
       "551          Zambia 2021-12-13                 100.00\n",
       "318           Malta 2021-12-27                 100.00\n",
       "64         Botswana 2021-12-27                  99.30\n",
       "533  United Kingdom 2022-01-05                  95.91\n",
       "454    South Africa 2021-12-13                  95.90\n",
       "..              ...        ...                    ...\n",
       "236         Ireland 2021-11-29                   1.23\n",
       "337     Netherlands 2021-11-29                   1.21\n",
       "327          Mexico 2021-12-13                   1.20\n",
       "252           Italy 2021-12-13                   1.05\n",
       "229       Indonesia 2021-12-13                   1.00\n",
       "\n",
       "[113 rows x 3 columns]"
      ]
     },
     "execution_count": 9,
     "metadata": {},
     "output_type": "execute_result"
    }
   ],
   "source": [
    "ndf = df[df['Percentage of Omicron'] > 0.99].sort_values(by = 'Percentage of Omicron', ascending = False)\n",
    "ndf"
   ]
  },
  {
   "cell_type": "code",
   "execution_count": 10,
   "id": "78b57f09",
   "metadata": {
    "execution": {
     "iopub.execute_input": "2022-02-24T13:23:23.268263Z",
     "iopub.status.busy": "2022-02-24T13:23:23.262010Z",
     "iopub.status.idle": "2022-02-24T13:23:23.477170Z",
     "shell.execute_reply": "2022-02-24T13:23:23.476615Z",
     "shell.execute_reply.started": "2022-02-24T13:22:45.084206Z"
    },
    "papermill": {
     "duration": 0.258233,
     "end_time": "2022-02-24T13:23:23.477308",
     "exception": false,
     "start_time": "2022-02-24T13:23:23.219075",
     "status": "completed"
    },
    "tags": []
   },
   "outputs": [
    {
     "data": {
      "image/png": "[encoded data removed]",
      "text/plain": [
       "<Figure size 1440x576 with 1 Axes>"
      ]
     },
     "metadata": {
      "needs_background": "light"
     },
     "output_type": "display_data"
    }
   ],
   "source": [
    "plt.figure(figsize = (20,8))\n",
    "sns.histplot(ndf['Percentage of Omicron'], color = 'blue')\n",
    "plt.xticks(fontsize = 16)\n",
    "plt.yticks(fontsize = 16)\n",
    "plt.title(\"Visualisasi kasus Omicron\", fontsize = 25)\n",
    "plt.xlabel(\"Presentaase Omicron\", fontsize = 20)\n",
    "plt.ylabel(\"Hitungan Per-Negara\", fontsize = 20)\n",
    "plt.show()"
   ]
  },
  {
   "cell_type": "code",
   "execution_count": 11,
   "id": "09d65bea",
   "metadata": {
    "execution": {
     "iopub.execute_input": "2022-02-24T13:23:23.556752Z",
     "iopub.status.busy": "2022-02-24T13:23:23.554975Z",
     "iopub.status.idle": "2022-02-24T13:23:23.694173Z",
     "shell.execute_reply": "2022-02-24T13:23:23.693632Z",
     "shell.execute_reply.started": "2022-02-24T13:22:45.342384Z"
    },
    "papermill": {
     "duration": 0.20016,
     "end_time": "2022-02-24T13:23:23.694309",
     "exception": false,
     "start_time": "2022-02-24T13:23:23.494149",
     "status": "completed"
    },
    "tags": []
   },
   "outputs": [
    {
     "data": {
      "image/png": "[encoded data removed]",
      "text/plain": [
       "<Figure size 1440x576 with 1 Axes>"
      ]
     },
     "metadata": {
      "needs_background": "light"
     },
     "output_type": "display_data"
    }
   ],
   "source": [
    "plt.figure(figsize = (20,8))\n",
    "plt.bar(ndf['Country'][:10], ndf['Percentage of Omicron'][:10], color = 'blue')\n",
    "plt.xticks(fontsize = 16)\n",
    "plt.yticks(fontsize = 16)\n",
    "plt.title(\"10  Negara Dengan Kasus Tertinggi\", fontsize = 25)\n",
    "plt.xlabel(\"Negara\", fontsize = 20)\n",
    "plt.ylabel(\"Presentase Kasus Omicron\", fontsize = 20)\n",
    "plt.show()"
   ]
  },
  {
   "cell_type": "code",
   "execution_count": 12,
   "id": "d1489c11",
   "metadata": {
    "execution": {
     "iopub.execute_input": "2022-02-24T13:23:23.735608Z",
     "iopub.status.busy": "2022-02-24T13:23:23.735051Z",
     "iopub.status.idle": "2022-02-24T13:23:23.747304Z",
     "shell.execute_reply": "2022-02-24T13:23:23.747805Z",
     "shell.execute_reply.started": "2022-02-24T13:22:45.591627Z"
    },
    "papermill": {
     "duration": 0.035658,
     "end_time": "2022-02-24T13:23:23.747988",
     "exception": false,
     "start_time": "2022-02-24T13:23:23.712330",
     "status": "completed"
    },
    "tags": []
   },
   "outputs": [
    {
     "data": {
      "text/html": [
       "<div>\n",
       "<style scoped>\n",
       "    .dataframe tbody tr th:only-of-type {\n",
       "        vertical-align: middle;\n",
       "    }\n",
       "\n",
       "    .dataframe tbody tr th {\n",
       "        vertical-align: top;\n",
       "    }\n",
       "\n",
       "    .dataframe thead th {\n",
       "        text-align: right;\n",
       "    }\n",
       "</style>\n",
       "<table border=\"1\" class=\"dataframe\">\n",
       "  <thead>\n",
       "    <tr style=\"text-align: right;\">\n",
       "      <th></th>\n",
       "      <th>Country</th>\n",
       "      <th>Date</th>\n",
       "      <th>Percentage of Omicron</th>\n",
       "    </tr>\n",
       "  </thead>\n",
       "  <tbody>\n",
       "    <tr>\n",
       "      <th>346</th>\n",
       "      <td>New Zealand</td>\n",
       "      <td>2021-12-13</td>\n",
       "      <td>0.96</td>\n",
       "    </tr>\n",
       "    <tr>\n",
       "      <th>462</th>\n",
       "      <td>South Korea</td>\n",
       "      <td>2021-12-13</td>\n",
       "      <td>0.93</td>\n",
       "    </tr>\n",
       "    <tr>\n",
       "      <th>114</th>\n",
       "      <td>Colombia</td>\n",
       "      <td>2021-12-13</td>\n",
       "      <td>0.89</td>\n",
       "    </tr>\n",
       "    <tr>\n",
       "      <th>130</th>\n",
       "      <td>Croatia</td>\n",
       "      <td>2021-12-13</td>\n",
       "      <td>0.86</td>\n",
       "    </tr>\n",
       "    <tr>\n",
       "      <th>88</th>\n",
       "      <td>Cambodia</td>\n",
       "      <td>2021-12-13</td>\n",
       "      <td>0.77</td>\n",
       "    </tr>\n",
       "    <tr>\n",
       "      <th>...</th>\n",
       "      <td>...</td>\n",
       "      <td>...</td>\n",
       "      <td>...</td>\n",
       "    </tr>\n",
       "    <tr>\n",
       "      <th>182</th>\n",
       "      <td>Georgia</td>\n",
       "      <td>2021-10-04</td>\n",
       "      <td>0.00</td>\n",
       "    </tr>\n",
       "    <tr>\n",
       "      <th>176</th>\n",
       "      <td>France</td>\n",
       "      <td>2021-11-01</td>\n",
       "      <td>0.00</td>\n",
       "    </tr>\n",
       "    <tr>\n",
       "      <th>175</th>\n",
       "      <td>France</td>\n",
       "      <td>2021-10-18</td>\n",
       "      <td>0.00</td>\n",
       "    </tr>\n",
       "    <tr>\n",
       "      <th>174</th>\n",
       "      <td>France</td>\n",
       "      <td>2021-10-04</td>\n",
       "      <td>0.00</td>\n",
       "    </tr>\n",
       "    <tr>\n",
       "      <th>549</th>\n",
       "      <td>Vietnam</td>\n",
       "      <td>2021-12-13</td>\n",
       "      <td>0.00</td>\n",
       "    </tr>\n",
       "  </tbody>\n",
       "</table>\n",
       "<p>438 rows × 3 columns</p>\n",
       "</div>"
      ],
      "text/plain": [
       "         Country       Date  Percentage of Omicron\n",
       "346  New Zealand 2021-12-13                   0.96\n",
       "462  South Korea 2021-12-13                   0.93\n",
       "114     Colombia 2021-12-13                   0.89\n",
       "130      Croatia 2021-12-13                   0.86\n",
       "88      Cambodia 2021-12-13                   0.77\n",
       "..           ...        ...                    ...\n",
       "182      Georgia 2021-10-04                   0.00\n",
       "176       France 2021-11-01                   0.00\n",
       "175       France 2021-10-18                   0.00\n",
       "174       France 2021-10-04                   0.00\n",
       "549      Vietnam 2021-12-13                   0.00\n",
       "\n",
       "[438 rows x 3 columns]"
      ]
     },
     "execution_count": 12,
     "metadata": {},
     "output_type": "execute_result"
    }
   ],
   "source": [
    "ndf = df[df['Percentage of Omicron'] < 0.99].sort_values(by = 'Percentage of Omicron', ascending = False)\n",
    "ndf"
   ]
  },
  {
   "cell_type": "code",
   "execution_count": 13,
   "id": "83f6232c",
   "metadata": {
    "execution": {
     "iopub.execute_input": "2022-02-24T13:23:23.795614Z",
     "iopub.status.busy": "2022-02-24T13:23:23.793787Z",
     "iopub.status.idle": "2022-02-24T13:23:23.946085Z",
     "shell.execute_reply": "2022-02-24T13:23:23.945465Z",
     "shell.execute_reply.started": "2022-02-24T13:22:45.612504Z"
    },
    "papermill": {
     "duration": 0.177705,
     "end_time": "2022-02-24T13:23:23.946223",
     "exception": false,
     "start_time": "2022-02-24T13:23:23.768518",
     "status": "completed"
    },
    "tags": []
   },
   "outputs": [
    {
     "data": {
      "image/png": "[encoded data removed]",
      "text/plain": [
       "<Figure size 1440x576 with 1 Axes>"
      ]
     },
     "metadata": {
      "needs_background": "light"
     },
     "output_type": "display_data"
    }
   ],
   "source": [
    "plt.figure(figsize = (20,8))\n",
    "plt.bar(ndf['Country'][:5], ndf['Percentage of Omicron'][:5], color = 'blue')\n",
    "plt.xticks(fontsize = 16)\n",
    "plt.yticks(fontsize = 16)\n",
    "plt.title(\"5 Negara dengan Kasus Terendah\", fontsize = 25)\n",
    "plt.xlabel(\"Negara\", fontsize = 20)\n",
    "plt.ylabel(\"Presentase Kasus Omicron\", fontsize = 20)\n",
    "plt.show()"
   ]
  },
  {
   "cell_type": "code",
   "execution_count": 14,
   "id": "338b7a7d",
   "metadata": {
    "execution": {
     "iopub.execute_input": "2022-02-24T13:23:23.988727Z",
     "iopub.status.busy": "2022-02-24T13:23:23.987444Z",
     "iopub.status.idle": "2022-02-24T13:23:24.369350Z",
     "shell.execute_reply": "2022-02-24T13:23:24.369766Z",
     "shell.execute_reply.started": "2022-02-24T13:22:45.840618Z"
    },
    "papermill": {
     "duration": 0.404174,
     "end_time": "2022-02-24T13:23:24.369959",
     "exception": false,
     "start_time": "2022-02-24T13:23:23.965785",
     "status": "completed"
    },
    "tags": []
   },
   "outputs": [
    {
     "data": {
      "image/png": "[encoded data removed]",
      "text/plain": [
       "<Figure size 432x432 with 2 Axes>"
      ]
     },
     "metadata": {
      "needs_background": "light"
     },
     "output_type": "display_data"
    }
   ],
   "source": [
    "df.hist(figsize=(6,6), bins=10)\n",
    "plt.tight_layout()"
   ]
  }
 ],
 "metadata": {
  "kernelspec": {
   "display_name": "Python 3",
   "language": "python",
   "name": "python3"
  },
  "language_info": {
   "codemirror_mode": {
    "name": "ipython",
    "version": 3
   },
   "file_extension": ".py",
   "mimetype": "text/x-python",
   "name": "python",
   "nbconvert_exporter": "python",
   "pygments_lexer": "ipython3",
   "version": "3.7.12"
  },
  "papermill": {
   "default_parameters": {},
   "duration": 12.749688,
   "end_time": "2022-02-24T13:23:25.102376",
   "environment_variables": {},
   "exception": null,
   "input_path": "__notebook__.ipynb",
   "output_path": "__notebook__.ipynb",
   "parameters": {},
   "start_time": "2022-02-24T13:23:12.352688",
   "version": "2.3.3"
  }
 },
 "nbformat": 4,
 "nbformat_minor": 5
}
